{
 "cells": [
  {
   "cell_type": "code",
   "execution_count": 1,
   "id": "c4f437ce-c45b-423a-aab3-9c1b6d959cc8",
   "metadata": {},
   "outputs": [
    {
     "name": "stdout",
     "output_type": "stream",
     "text": [
      "Defaulting to user installation because normal site-packages is not writeable\n",
      "Requirement already satisfied: pandas in /home/u194229/.local/lib/python3.9/site-packages (2.0.3)\n",
      "Requirement already satisfied: python-dateutil>=2.8.2 in /glob/development-tools/versions/oneapi/2023.2.0.1/oneapi/tensorflow/2.13.0/lib/python3.9/site-packages (from pandas) (2.8.2)\n",
      "Requirement already satisfied: pytz>=2020.1 in /glob/development-tools/versions/oneapi/2023.2.0.1/oneapi/tensorflow/2.13.0/lib/python3.9/site-packages (from pandas) (2023.3)\n",
      "Requirement already satisfied: tzdata>=2022.1 in /home/u194229/.local/lib/python3.9/site-packages (from pandas) (2023.3)\n",
      "Requirement already satisfied: numpy>=1.20.3 in /home/u194229/.local/lib/python3.9/site-packages (from pandas) (1.22.4)\n",
      "Requirement already satisfied: six>=1.5 in /glob/development-tools/versions/oneapi/2023.2.0.1/oneapi/tensorflow/2.13.0/lib/python3.9/site-packages (from python-dateutil>=2.8.2->pandas) (1.16.0)\n",
      "Note: you may need to restart the kernel to use updated packages.\n"
     ]
    }
   ],
   "source": [
    "pip install pandas"
   ]
  },
  {
   "cell_type": "code",
   "execution_count": 2,
   "id": "3d32ccc4-ce62-4003-9401-8f08fb7ef5c9",
   "metadata": {},
   "outputs": [
    {
     "name": "stdout",
     "output_type": "stream",
     "text": [
      "Defaulting to user installation because normal site-packages is not writeable\n",
      "Requirement already satisfied: numpy in /home/u194229/.local/lib/python3.9/site-packages (1.22.4)\n",
      "Note: you may need to restart the kernel to use updated packages.\n"
     ]
    }
   ],
   "source": [
    "pip install numpy"
   ]
  },
  {
   "cell_type": "code",
   "execution_count": 3,
   "id": "9c4eeaa2-a28e-499e-a0c1-7847d866215d",
   "metadata": {},
   "outputs": [
    {
     "name": "stdout",
     "output_type": "stream",
     "text": [
      "Defaulting to user installation because normal site-packages is not writeable\n",
      "Requirement already satisfied: matplotlib in /glob/development-tools/versions/oneapi/2023.2.0.1/oneapi/tensorflow/2.13.0/lib/python3.9/site-packages (3.7.1)\n",
      "Requirement already satisfied: contourpy>=1.0.1 in /glob/development-tools/versions/oneapi/2023.2.0.1/oneapi/tensorflow/2.13.0/lib/python3.9/site-packages (from matplotlib) (1.0.7)\n",
      "Requirement already satisfied: cycler>=0.10 in /glob/development-tools/versions/oneapi/2023.2.0.1/oneapi/tensorflow/2.13.0/lib/python3.9/site-packages (from matplotlib) (0.11.0)\n",
      "Requirement already satisfied: fonttools>=4.22.0 in /glob/development-tools/versions/oneapi/2023.2.0.1/oneapi/tensorflow/2.13.0/lib/python3.9/site-packages (from matplotlib) (4.39.4)\n",
      "Requirement already satisfied: kiwisolver>=1.0.1 in /glob/development-tools/versions/oneapi/2023.2.0.1/oneapi/tensorflow/2.13.0/lib/python3.9/site-packages (from matplotlib) (1.4.4)\n",
      "Requirement already satisfied: numpy>=1.20 in /home/u194229/.local/lib/python3.9/site-packages (from matplotlib) (1.22.4)\n",
      "Requirement already satisfied: packaging>=20.0 in /glob/development-tools/versions/oneapi/2023.2.0.1/oneapi/tensorflow/2.13.0/lib/python3.9/site-packages (from matplotlib) (23.1)\n",
      "Requirement already satisfied: pillow>=6.2.0 in /home/u194229/.local/lib/python3.9/site-packages (from matplotlib) (9.5.0)\n",
      "Requirement already satisfied: pyparsing>=2.3.1 in /glob/development-tools/versions/oneapi/2023.2.0.1/oneapi/tensorflow/2.13.0/lib/python3.9/site-packages (from matplotlib) (3.1.0)\n",
      "Requirement already satisfied: python-dateutil>=2.7 in /glob/development-tools/versions/oneapi/2023.2.0.1/oneapi/tensorflow/2.13.0/lib/python3.9/site-packages (from matplotlib) (2.8.2)\n",
      "Requirement already satisfied: importlib-resources>=3.2.0 in /glob/development-tools/versions/oneapi/2023.2.0.1/oneapi/tensorflow/2.13.0/lib/python3.9/site-packages (from matplotlib) (5.12.0)\n",
      "Requirement already satisfied: zipp>=3.1.0 in /glob/development-tools/versions/oneapi/2023.2.0.1/oneapi/tensorflow/2.13.0/lib/python3.9/site-packages (from importlib-resources>=3.2.0->matplotlib) (3.15.0)\n",
      "Requirement already satisfied: six>=1.5 in /glob/development-tools/versions/oneapi/2023.2.0.1/oneapi/tensorflow/2.13.0/lib/python3.9/site-packages (from python-dateutil>=2.7->matplotlib) (1.16.0)\n",
      "Note: you may need to restart the kernel to use updated packages.\n"
     ]
    }
   ],
   "source": [
    "pip install matplotlib"
   ]
  },
  {
   "cell_type": "code",
   "execution_count": 4,
   "id": "6fc40d0f-4021-4c44-a894-4018b6b1ee01",
   "metadata": {},
   "outputs": [
    {
     "name": "stdout",
     "output_type": "stream",
     "text": [
      "Defaulting to user installation because normal site-packages is not writeable\n",
      "Requirement already satisfied: scikit-learn-intelex in /home/u194229/.local/lib/python3.9/site-packages (2023.2.1)\n",
      "Requirement already satisfied: daal4py==2023.2.1 in /home/u194229/.local/lib/python3.9/site-packages (from scikit-learn-intelex) (2023.2.1)\n",
      "Requirement already satisfied: scikit-learn>=0.22 in /glob/development-tools/versions/oneapi/2023.2.0.1/oneapi/tensorflow/2.13.0/lib/python3.9/site-packages (from scikit-learn-intelex) (1.2.2)\n",
      "Requirement already satisfied: daal==2023.2.1 in /home/u194229/.local/lib/python3.9/site-packages (from daal4py==2023.2.1->scikit-learn-intelex) (2023.2.1)\n",
      "Requirement already satisfied: numpy>=1.19 in /home/u194229/.local/lib/python3.9/site-packages (from daal4py==2023.2.1->scikit-learn-intelex) (1.22.4)\n",
      "Requirement already satisfied: tbb==2021.* in /home/u194229/.local/lib/python3.9/site-packages (from daal==2023.2.1->daal4py==2023.2.1->scikit-learn-intelex) (2021.10.0)\n",
      "Requirement already satisfied: scipy>=1.3.2 in /glob/development-tools/versions/oneapi/2023.2.0.1/oneapi/tensorflow/2.13.0/lib/python3.9/site-packages (from scikit-learn>=0.22->scikit-learn-intelex) (1.10.1)\n",
      "Requirement already satisfied: joblib>=1.1.1 in /glob/development-tools/versions/oneapi/2023.2.0.1/oneapi/tensorflow/2.13.0/lib/python3.9/site-packages (from scikit-learn>=0.22->scikit-learn-intelex) (1.2.0)\n",
      "Requirement already satisfied: threadpoolctl>=2.0.0 in /glob/development-tools/versions/oneapi/2023.2.0.1/oneapi/tensorflow/2.13.0/lib/python3.9/site-packages (from scikit-learn>=0.22->scikit-learn-intelex) (3.1.0)\n",
      "Note: you may need to restart the kernel to use updated packages.\n"
     ]
    }
   ],
   "source": [
    "pip install scikit-learn-intelex"
   ]
  },
  {
   "cell_type": "code",
   "execution_count": 47,
   "id": "04eca707-89c3-4e4b-9e2d-ace7a44378ac",
   "metadata": {},
   "outputs": [],
   "source": [
    "import numpy as np \n",
    "import pandas as pd\n",
    "import matplotlib.pyplot as plt\n",
    "import seaborn as sns\n",
    "%matplotlib inline\n",
    "\n",
    "import os\n",
    "for dirname, _, filenames in os.walk('Stress Level Dection/Stress-Lysis.csv'):\n",
    "    for filename in filenames:\n",
    "        print(os.path.join(dirname, filename))"
   ]
  },
  {
   "cell_type": "code",
   "execution_count": 6,
   "id": "e8ce2001-7303-4f1b-b885-b69573adc46d",
   "metadata": {},
   "outputs": [
    {
     "data": {
      "text/html": [
       "<div>\n",
       "<style scoped>\n",
       "    .dataframe tbody tr th:only-of-type {\n",
       "        vertical-align: middle;\n",
       "    }\n",
       "\n",
       "    .dataframe tbody tr th {\n",
       "        vertical-align: top;\n",
       "    }\n",
       "\n",
       "    .dataframe thead th {\n",
       "        text-align: right;\n",
       "    }\n",
       "</style>\n",
       "<table border=\"1\" class=\"dataframe\">\n",
       "  <thead>\n",
       "    <tr style=\"text-align: right;\">\n",
       "      <th></th>\n",
       "      <th>Humidity</th>\n",
       "      <th>Temperature</th>\n",
       "      <th>Step_count</th>\n",
       "      <th>Stress_Level</th>\n",
       "    </tr>\n",
       "  </thead>\n",
       "  <tbody>\n",
       "    <tr>\n",
       "      <th>0</th>\n",
       "      <td>21.33</td>\n",
       "      <td>90.33</td>\n",
       "      <td>123</td>\n",
       "      <td>1</td>\n",
       "    </tr>\n",
       "    <tr>\n",
       "      <th>1</th>\n",
       "      <td>21.41</td>\n",
       "      <td>90.41</td>\n",
       "      <td>93</td>\n",
       "      <td>1</td>\n",
       "    </tr>\n",
       "    <tr>\n",
       "      <th>2</th>\n",
       "      <td>27.12</td>\n",
       "      <td>96.12</td>\n",
       "      <td>196</td>\n",
       "      <td>2</td>\n",
       "    </tr>\n",
       "    <tr>\n",
       "      <th>3</th>\n",
       "      <td>27.64</td>\n",
       "      <td>96.64</td>\n",
       "      <td>177</td>\n",
       "      <td>2</td>\n",
       "    </tr>\n",
       "    <tr>\n",
       "      <th>4</th>\n",
       "      <td>10.87</td>\n",
       "      <td>79.87</td>\n",
       "      <td>87</td>\n",
       "      <td>0</td>\n",
       "    </tr>\n",
       "  </tbody>\n",
       "</table>\n",
       "</div>"
      ],
      "text/plain": [
       "   Humidity  Temperature  Step_count  Stress_Level\n",
       "0     21.33        90.33         123             1\n",
       "1     21.41        90.41          93             1\n",
       "2     27.12        96.12         196             2\n",
       "3     27.64        96.64         177             2\n",
       "4     10.87        79.87          87             0"
      ]
     },
     "execution_count": 6,
     "metadata": {},
     "output_type": "execute_result"
    }
   ],
   "source": [
    "# displays the first five rows of the dataframe\n",
    "data=pd.read_csv('Stress-Lysis.csv')\n",
    "data.head()  "
   ]
  },
  {
   "cell_type": "code",
   "execution_count": 7,
   "id": "e7fdeff7-9dc0-4b63-9bb5-d8897e080909",
   "metadata": {},
   "outputs": [
    {
     "data": {
      "text/plain": [
       "(2001, 4)"
      ]
     },
     "execution_count": 7,
     "metadata": {},
     "output_type": "execute_result"
    }
   ],
   "source": [
    "# returns a tuple of array dimension that specifies the number of rows and columns\n",
    "data.shape"
   ]
  },
  {
   "cell_type": "code",
   "execution_count": 8,
   "id": "dbc44280-4576-4dc1-9b69-5afb2209d83e",
   "metadata": {},
   "outputs": [
    {
     "name": "stdout",
     "output_type": "stream",
     "text": [
      "<class 'pandas.core.frame.DataFrame'>\n",
      "RangeIndex: 2001 entries, 0 to 2000\n",
      "Data columns (total 4 columns):\n",
      " #   Column        Non-Null Count  Dtype  \n",
      "---  ------        --------------  -----  \n",
      " 0   Humidity      2001 non-null   float64\n",
      " 1   Temperature   2001 non-null   float64\n",
      " 2   Step_count    2001 non-null   int64  \n",
      " 3   Stress_Level  2001 non-null   int64  \n",
      "dtypes: float64(2), int64(2)\n",
      "memory usage: 62.7 KB\n"
     ]
    }
   ],
   "source": [
    "# prints the information about the dataframe\n",
    "data.info()  "
   ]
  },
  {
   "cell_type": "code",
   "execution_count": 9,
   "id": "345e6405-a978-43d1-97c6-ded6dd43692b",
   "metadata": {},
   "outputs": [
    {
     "data": {
      "text/html": [
       "<div>\n",
       "<style scoped>\n",
       "    .dataframe tbody tr th:only-of-type {\n",
       "        vertical-align: middle;\n",
       "    }\n",
       "\n",
       "    .dataframe tbody tr th {\n",
       "        vertical-align: top;\n",
       "    }\n",
       "\n",
       "    .dataframe thead th {\n",
       "        text-align: right;\n",
       "    }\n",
       "</style>\n",
       "<table border=\"1\" class=\"dataframe\">\n",
       "  <thead>\n",
       "    <tr style=\"text-align: right;\">\n",
       "      <th></th>\n",
       "      <th>Humidity</th>\n",
       "      <th>Temperature</th>\n",
       "      <th>Step_count</th>\n",
       "      <th>Stress_Level</th>\n",
       "    </tr>\n",
       "  </thead>\n",
       "  <tbody>\n",
       "    <tr>\n",
       "      <th>count</th>\n",
       "      <td>2001.000000</td>\n",
       "      <td>2001.000000</td>\n",
       "      <td>2001.000000</td>\n",
       "      <td>2001.000000</td>\n",
       "    </tr>\n",
       "    <tr>\n",
       "      <th>mean</th>\n",
       "      <td>20.000000</td>\n",
       "      <td>89.000000</td>\n",
       "      <td>100.141429</td>\n",
       "      <td>1.104448</td>\n",
       "    </tr>\n",
       "    <tr>\n",
       "      <th>std</th>\n",
       "      <td>5.777833</td>\n",
       "      <td>5.777833</td>\n",
       "      <td>58.182948</td>\n",
       "      <td>0.771094</td>\n",
       "    </tr>\n",
       "    <tr>\n",
       "      <th>min</th>\n",
       "      <td>10.000000</td>\n",
       "      <td>79.000000</td>\n",
       "      <td>0.000000</td>\n",
       "      <td>0.000000</td>\n",
       "    </tr>\n",
       "    <tr>\n",
       "      <th>25%</th>\n",
       "      <td>15.000000</td>\n",
       "      <td>84.000000</td>\n",
       "      <td>50.000000</td>\n",
       "      <td>0.000000</td>\n",
       "    </tr>\n",
       "    <tr>\n",
       "      <th>50%</th>\n",
       "      <td>20.000000</td>\n",
       "      <td>89.000000</td>\n",
       "      <td>101.000000</td>\n",
       "      <td>1.000000</td>\n",
       "    </tr>\n",
       "    <tr>\n",
       "      <th>75%</th>\n",
       "      <td>25.000000</td>\n",
       "      <td>94.000000</td>\n",
       "      <td>150.000000</td>\n",
       "      <td>2.000000</td>\n",
       "    </tr>\n",
       "    <tr>\n",
       "      <th>max</th>\n",
       "      <td>30.000000</td>\n",
       "      <td>99.000000</td>\n",
       "      <td>200.000000</td>\n",
       "      <td>2.000000</td>\n",
       "    </tr>\n",
       "  </tbody>\n",
       "</table>\n",
       "</div>"
      ],
      "text/plain": [
       "          Humidity  Temperature   Step_count  Stress_Level\n",
       "count  2001.000000  2001.000000  2001.000000   2001.000000\n",
       "mean     20.000000    89.000000   100.141429      1.104448\n",
       "std       5.777833     5.777833    58.182948      0.771094\n",
       "min      10.000000    79.000000     0.000000      0.000000\n",
       "25%      15.000000    84.000000    50.000000      0.000000\n",
       "50%      20.000000    89.000000   101.000000      1.000000\n",
       "75%      25.000000    94.000000   150.000000      2.000000\n",
       "max      30.000000    99.000000   200.000000      2.000000"
      ]
     },
     "execution_count": 9,
     "metadata": {},
     "output_type": "execute_result"
    }
   ],
   "source": [
    " # returns the statistical summary of the data\n",
    "data.describe() "
   ]
  },
  {
   "cell_type": "code",
   "execution_count": 10,
   "id": "3c7ee51c-c9a8-4c8c-8cf7-7e0e447061b9",
   "metadata": {},
   "outputs": [
    {
     "data": {
      "text/plain": [
       "array([1, 2, 0])"
      ]
     },
     "execution_count": 10,
     "metadata": {},
     "output_type": "execute_result"
    }
   ],
   "source": [
    "data['Stress_Level'].unique()"
   ]
  },
  {
   "cell_type": "code",
   "execution_count": 11,
   "id": "14e284f3-e846-44af-a6e7-0d06d4b1deef",
   "metadata": {},
   "outputs": [
    {
     "data": {
      "text/plain": [
       "Humidity        0\n",
       "Temperature     0\n",
       "Step_count      0\n",
       "Stress_Level    0\n",
       "dtype: int64"
      ]
     },
     "execution_count": 11,
     "metadata": {},
     "output_type": "execute_result"
    }
   ],
   "source": [
    "data.isnull().sum()"
   ]
  },
  {
   "cell_type": "code",
   "execution_count": 12,
   "id": "c51506d1-698c-457a-aa99-f64fc02ebc7f",
   "metadata": {},
   "outputs": [
    {
     "data": {
      "text/plain": [
       "0"
      ]
     },
     "execution_count": 12,
     "metadata": {},
     "output_type": "execute_result"
    }
   ],
   "source": [
    "data.duplicated().sum()"
   ]
  },
  {
   "cell_type": "code",
   "execution_count": 13,
   "id": "a492698b-c7b5-4ec7-bbaa-a061a649d005",
   "metadata": {},
   "outputs": [
    {
     "data": {
      "text/plain": [
       "Humidity        1.179993e-18\n",
       "Temperature    -1.297993e-17\n",
       "Step_count     -6.998237e-03\n",
       "Stress_Level   -1.811032e-01\n",
       "dtype: float64"
      ]
     },
     "execution_count": 13,
     "metadata": {},
     "output_type": "execute_result"
    }
   ],
   "source": [
    "data.skew()"
   ]
  },
  {
   "cell_type": "code",
   "execution_count": 14,
   "id": "239b7ebf-4bd7-4321-9473-c765bc178473",
   "metadata": {},
   "outputs": [
    {
     "data": {
      "image/png": "[encoded data removed]",
      "text/plain": [
       "<Figure size 400x400 with 1 Axes>"
      ]
     },
     "metadata": {},
     "output_type": "display_data"
    }
   ],
   "source": [
    "plt.figure(figsize=(4,4))\n",
    "plt.boxplot(data)\n",
    "plt.show()"
   ]
  },
  {
   "cell_type": "code",
   "execution_count": 15,
   "id": "c4be52f9-d33f-4625-b24c-cda4a386e44e",
   "metadata": {},
   "outputs": [
    {
     "name": "stdout",
     "output_type": "stream",
     "text": [
      "-0.3790364332\n"
     ]
    }
   ],
   "source": [
    "# Logarithmic Transformation\n",
    "hum_log = np.log(data['Humidity'])\n",
    "h = round(hum_log.skew(),10)\n",
    "print(h)"
   ]
  },
  {
   "cell_type": "code",
   "execution_count": 16,
   "id": "6c067d59-8b3a-4ef0-8cc8-10b62ebb7b68",
   "metadata": {},
   "outputs": [
    {
     "name": "stdout",
     "output_type": "stream",
     "text": [
      "-0.0390881104\n"
     ]
    }
   ],
   "source": [
    "# SquareRoot Transformation\n",
    "temp_sqrt = np.sqrt(data['Temperature'])\n",
    "temp_sqrt.skew()\n",
    "t = round(temp_sqrt.skew(),10)\n",
    "print(t)"
   ]
  },
  {
   "cell_type": "code",
   "execution_count": 17,
   "id": "273a6750-9f27-4450-a4b4-7b596d68bba5",
   "metadata": {},
   "outputs": [],
   "source": [
    "quantile1=data[\"Step_count\"].quantile(0.25)\n",
    "quantile2=data[\"Step_count\"].quantile(0.75)"
   ]
  },
  {
   "cell_type": "code",
   "execution_count": 18,
   "id": "fb8590e5-3d33-4435-abe4-02b49d11a920",
   "metadata": {},
   "outputs": [
    {
     "data": {
      "text/plain": [
       "50.0"
      ]
     },
     "execution_count": 18,
     "metadata": {},
     "output_type": "execute_result"
    }
   ],
   "source": [
    "quantile1"
   ]
  },
  {
   "cell_type": "code",
   "execution_count": 19,
   "id": "2e095aa2-72ef-4d15-8e3a-d5d8d84688d5",
   "metadata": {},
   "outputs": [
    {
     "data": {
      "text/plain": [
       "150.0"
      ]
     },
     "execution_count": 19,
     "metadata": {},
     "output_type": "execute_result"
    }
   ],
   "source": [
    "quantile2"
   ]
  },
  {
   "cell_type": "code",
   "execution_count": 20,
   "id": "e6654f31-0808-47c3-8896-3648a520a9b7",
   "metadata": {},
   "outputs": [],
   "source": [
    "data[\"Step_count\"]=np.where(data[\"Step_count\"]<quantile1,quantile1,data[\"Step_count\"])\n",
    "data[\"Step_count\"]=np.where(data[\"Step_count\"]>quantile2,quantile2,data[\"Step_count\"])"
   ]
  },
  {
   "cell_type": "code",
   "execution_count": 21,
   "id": "83d48116-3123-4421-8d63-960a24c5d536",
   "metadata": {},
   "outputs": [
    {
     "name": "stdout",
     "output_type": "stream",
     "text": [
      "-0.0094975784\n"
     ]
    }
   ],
   "source": [
    "s = round(data['Step_count'].skew(),10)\n",
    "print(s)"
   ]
  },
  {
   "cell_type": "code",
   "execution_count": 22,
   "id": "936041d1-4d1e-44fe-b087-4e90fb0e1bb1",
   "metadata": {},
   "outputs": [
    {
     "name": "stdout",
     "output_type": "stream",
     "text": [
      "-0.7944935599\n"
     ]
    }
   ],
   "source": [
    "# SquareRoot Transformation\n",
    "stress_sqrt = np.sqrt(data['Stress_Level'])\n",
    "sl = round(stress_sqrt.skew(),10)\n",
    "print(sl)"
   ]
  },
  {
   "cell_type": "code",
   "execution_count": 23,
   "id": "49236a09-6a87-44b4-bf12-f8706312fb90",
   "metadata": {},
   "outputs": [
    {
     "data": {
      "image/png": "[encoded data removed]",
      "text/plain": [
       "<Figure size 300x300 with 1 Axes>"
      ]
     },
     "metadata": {},
     "output_type": "display_data"
    },
    {
     "data": {
      "image/png": "[encoded data removed]",
      "text/plain": [
       "<Figure size 300x300 with 1 Axes>"
      ]
     },
     "metadata": {},
     "output_type": "display_data"
    }
   ],
   "source": [
    "column=['Step_count','Humidity']\n",
    "for category in column:\n",
    "    plt.figure(figsize=(3,3))\n",
    "    plt.hist(data[category])\n",
    "    plt.title(category)\n",
    "    plt.show()"
   ]
  },
  {
   "cell_type": "code",
   "execution_count": 24,
   "id": "a8587c16-68a9-4c18-aa04-3677729a6e73",
   "metadata": {},
   "outputs": [
    {
     "data": {
      "text/plain": [
       "<Axes: xlabel='Stress_Level', ylabel='Count'>"
      ]
     },
     "execution_count": 24,
     "metadata": {},
     "output_type": "execute_result"
    },
    {
     "data": {
      "image/png": "[encoded data removed]",
      "text/plain": [
       "<Figure size 300x300 with 1 Axes>"
      ]
     },
     "metadata": {},
     "output_type": "display_data"
    }
   ],
   "source": [
    "# histplot (categorical) \n",
    "plt.figure(figsize=(3,3))\n",
    "sns.set(font_scale=1)\n",
    "sns.histplot(data=data, x='Stress_Level')"
   ]
  },
  {
   "cell_type": "code",
   "execution_count": 25,
   "id": "6e870caf-1335-4b99-8fd8-fe9f4a3029d9",
   "metadata": {},
   "outputs": [
    {
     "data": {
      "text/plain": [
       "<Axes: >"
      ]
     },
     "execution_count": 25,
     "metadata": {},
     "output_type": "execute_result"
    },
    {
     "data": {
      "image/png": "[encoded data removed]",
      "text/plain": [
       "<Figure size 300x300 with 1 Axes>"
      ]
     },
     "metadata": {},
     "output_type": "display_data"
    }
   ],
   "source": [
    "plt.figure(figsize=(3,3))\n",
    "sns.boxplot(data['Temperature'])"
   ]
  },
  {
   "cell_type": "code",
   "execution_count": 26,
   "id": "662d1491-b685-4c5b-92fa-a6c9f973505f",
   "metadata": {},
   "outputs": [
    {
     "data": {
      "text/html": [
       "<div>\n",
       "<style scoped>\n",
       "    .dataframe tbody tr th:only-of-type {\n",
       "        vertical-align: middle;\n",
       "    }\n",
       "\n",
       "    .dataframe tbody tr th {\n",
       "        vertical-align: top;\n",
       "    }\n",
       "\n",
       "    .dataframe thead th {\n",
       "        text-align: right;\n",
       "    }\n",
       "</style>\n",
       "<table border=\"1\" class=\"dataframe\">\n",
       "  <thead>\n",
       "    <tr style=\"text-align: right;\">\n",
       "      <th></th>\n",
       "      <th>Humidity</th>\n",
       "      <th>Temperature</th>\n",
       "      <th>Step_count</th>\n",
       "      <th>Stress_Level</th>\n",
       "    </tr>\n",
       "  </thead>\n",
       "  <tbody>\n",
       "    <tr>\n",
       "      <th>Humidity</th>\n",
       "      <td>1.000000</td>\n",
       "      <td>1.000000</td>\n",
       "      <td>0.902053</td>\n",
       "      <td>0.936036</td>\n",
       "    </tr>\n",
       "    <tr>\n",
       "      <th>Temperature</th>\n",
       "      <td>1.000000</td>\n",
       "      <td>1.000000</td>\n",
       "      <td>0.902053</td>\n",
       "      <td>0.936036</td>\n",
       "    </tr>\n",
       "    <tr>\n",
       "      <th>Step_count</th>\n",
       "      <td>0.902053</td>\n",
       "      <td>0.902053</td>\n",
       "      <td>1.000000</td>\n",
       "      <td>0.859096</td>\n",
       "    </tr>\n",
       "    <tr>\n",
       "      <th>Stress_Level</th>\n",
       "      <td>0.936036</td>\n",
       "      <td>0.936036</td>\n",
       "      <td>0.859096</td>\n",
       "      <td>1.000000</td>\n",
       "    </tr>\n",
       "  </tbody>\n",
       "</table>\n",
       "</div>"
      ],
      "text/plain": [
       "              Humidity  Temperature  Step_count  Stress_Level\n",
       "Humidity      1.000000     1.000000    0.902053      0.936036\n",
       "Temperature   1.000000     1.000000    0.902053      0.936036\n",
       "Step_count    0.902053     0.902053    1.000000      0.859096\n",
       "Stress_Level  0.936036     0.936036    0.859096      1.000000"
      ]
     },
     "execution_count": 26,
     "metadata": {},
     "output_type": "execute_result"
    }
   ],
   "source": [
    "correlation = data.corr()\n",
    "correlation"
   ]
  },
  {
   "cell_type": "code",
   "execution_count": 27,
   "id": "4e28f9d6-fe8b-46b8-a99a-dc4fc9ce37d6",
   "metadata": {},
   "outputs": [
    {
     "data": {
      "image/png": "[encoded data removed]",
      "text/plain": [
       "<Figure size 300x300 with 2 Axes>"
      ]
     },
     "metadata": {},
     "output_type": "display_data"
    }
   ],
   "source": [
    "plt.figure(figsize=(3,3))\n",
    "sns.heatmap(correlation,annot=True,cmap='crest',linewidths=0.2)\n",
    "plt.show()"
   ]
  },
  {
   "cell_type": "code",
   "execution_count": 28,
   "id": "862d0777-8c7e-4701-8501-7bac5651661c",
   "metadata": {},
   "outputs": [
    {
     "data": {
      "image/png": "[encoded data removed]",
      "text/plain": [
       "<Figure size 300x300 with 1 Axes>"
      ]
     },
     "metadata": {},
     "output_type": "display_data"
    }
   ],
   "source": [
    "plt.figure(figsize=(3,3))\n",
    "sns.scatterplot(x='Humidity',y='Temperature',hue='Stress_Level',data=data)\n",
    "plt.show()"
   ]
  },
  {
   "cell_type": "code",
   "execution_count": 29,
   "id": "209e06c4-1265-47fe-9aa5-49ed9cfc7642",
   "metadata": {},
   "outputs": [],
   "source": [
    "from sklearn.model_selection import train_test_split\n",
    "X=data.drop(['Stress_Level'],axis=1)\n",
    "y=data['Stress_Level']\n",
    "X_train,X_test,y_train,y_test = train_test_split(X,y,test_size=0.2,random_state=2)"
   ]
  },
  {
   "cell_type": "code",
   "execution_count": 30,
   "id": "daa01921-dc51-4eec-9eb2-473a17a028f2",
   "metadata": {},
   "outputs": [
    {
     "name": "stderr",
     "output_type": "stream",
     "text": [
      "/opt/intel/inteloneapi/tensorflow/latest/lib/python3.9/site-packages/sklearn/linear_model/_logistic.py:458: ConvergenceWarning: lbfgs failed to converge (status=1):\n",
      "STOP: TOTAL NO. of ITERATIONS REACHED LIMIT.\n",
      "\n",
      "Increase the number of iterations (max_iter) or scale the data as shown in:\n",
      "    https://scikit-learn.org/stable/modules/preprocessing.html\n",
      "Please also refer to the documentation for alternative solver options:\n",
      "    https://scikit-learn.org/stable/modules/linear_model.html#logistic-regression\n",
      "  n_iter_i = _check_optimize_result(\n"
     ]
    },
    {
     "data": {
      "text/html": [
       "<style>#sk-container-id-1 {color: black;background-color: white;}#sk-container-id-1 pre{padding: 0;}#sk-container-id-1 div.sk-toggleable {background-color: white;}#sk-container-id-1 label.sk-toggleable__label {cursor: pointer;display: block;width: 100%;margin-bottom: 0;padding: 0.3em;box-sizing: border-box;text-align: center;}#sk-container-id-1 label.sk-toggleable__label-arrow:before {content: \"▸\";float: left;margin-right: 0.25em;color: #696969;}#sk-container-id-1 label.sk-toggleable__label-arrow:hover:before {color: black;}#sk-container-id-1 div.sk-estimator:hover label.sk-toggleable__label-arrow:before {color: black;}#sk-container-id-1 div.sk-toggleable__content {max-height: 0;max-width: 0;overflow: hidden;text-align: left;background-color: #f0f8ff;}#sk-container-id-1 div.sk-toggleable__content pre {margin: 0.2em;color: black;border-radius: 0.25em;background-color: #f0f8ff;}#sk-container-id-1 input.sk-toggleable__control:checked~div.sk-toggleable__content {max-height: 200px;max-width: 100%;overflow: auto;}#sk-container-id-1 input.sk-toggleable__control:checked~label.sk-toggleable__label-arrow:before {content: \"▾\";}#sk-container-id-1 div.sk-estimator input.sk-toggleable__control:checked~label.sk-toggleable__label {background-color: #d4ebff;}#sk-container-id-1 div.sk-label input.sk-toggleable__control:checked~label.sk-toggleable__label {background-color: #d4ebff;}#sk-container-id-1 input.sk-hidden--visually {border: 0;clip: rect(1px 1px 1px 1px);clip: rect(1px, 1px, 1px, 1px);height: 1px;margin: -1px;overflow: hidden;padding: 0;position: absolute;width: 1px;}#sk-container-id-1 div.sk-estimator {font-family: monospace;background-color: #f0f8ff;border: 1px dotted black;border-radius: 0.25em;box-sizing: border-box;margin-bottom: 0.5em;}#sk-container-id-1 div.sk-estimator:hover {background-color: #d4ebff;}#sk-container-id-1 div.sk-parallel-item::after {content: \"\";width: 100%;border-bottom: 1px solid gray;flex-grow: 1;}#sk-container-id-1 div.sk-label:hover label.sk-toggleable__label {background-color: #d4ebff;}#sk-container-id-1 div.sk-serial::before {content: \"\";position: absolute;border-left: 1px solid gray;box-sizing: border-box;top: 0;bottom: 0;left: 50%;z-index: 0;}#sk-container-id-1 div.sk-serial {display: flex;flex-direction: column;align-items: center;background-color: white;padding-right: 0.2em;padding-left: 0.2em;position: relative;}#sk-container-id-1 div.sk-item {position: relative;z-index: 1;}#sk-container-id-1 div.sk-parallel {display: flex;align-items: stretch;justify-content: center;background-color: white;position: relative;}#sk-container-id-1 div.sk-item::before, #sk-container-id-1 div.sk-parallel-item::before {content: \"\";position: absolute;border-left: 1px solid gray;box-sizing: border-box;top: 0;bottom: 0;left: 50%;z-index: -1;}#sk-container-id-1 div.sk-parallel-item {display: flex;flex-direction: column;z-index: 1;position: relative;background-color: white;}#sk-container-id-1 div.sk-parallel-item:first-child::after {align-self: flex-end;width: 50%;}#sk-container-id-1 div.sk-parallel-item:last-child::after {align-self: flex-start;width: 50%;}#sk-container-id-1 div.sk-parallel-item:only-child::after {width: 0;}#sk-container-id-1 div.sk-dashed-wrapped {border: 1px dashed gray;margin: 0 0.4em 0.5em 0.4em;box-sizing: border-box;padding-bottom: 0.4em;background-color: white;}#sk-container-id-1 div.sk-label label {font-family: monospace;font-weight: bold;display: inline-block;line-height: 1.2em;}#sk-container-id-1 div.sk-label-container {text-align: center;}#sk-container-id-1 div.sk-container {/* jupyter's `normalize.less` sets `[hidden] { display: none; }` but bootstrap.min.css set `[hidden] { display: none !important; }` so we also need the `!important` here to be able to override the default hidden behavior on the sphinx rendered scikit-learn.org. See: https://github.com/scikit-learn/scikit-learn/issues/21755 */display: inline-block !important;position: relative;}#sk-container-id-1 div.sk-text-repr-fallback {display: none;}</style><div id=\"sk-container-id-1\" class=\"sk-top-container\"><div class=\"sk-text-repr-fallback\"><pre>LogisticRegression(random_state=2)</pre><b>In a Jupyter environment, please rerun this cell to show the HTML representation or trust the notebook. <br />On GitHub, the HTML representation is unable to render, please try loading this page with nbviewer.org.</b></div><div class=\"sk-container\" hidden><div class=\"sk-item\"><div class=\"sk-estimator sk-toggleable\"><input class=\"sk-toggleable__control sk-hidden--visually\" id=\"sk-estimator-id-1\" type=\"checkbox\" checked><label for=\"sk-estimator-id-1\" class=\"sk-toggleable__label sk-toggleable__label-arrow\">LogisticRegression</label><div class=\"sk-toggleable__content\"><pre>LogisticRegression(random_state=2)</pre></div></div></div></div></div>"
      ],
      "text/plain": [
       "LogisticRegression(random_state=2)"
      ]
     },
     "execution_count": 30,
     "metadata": {},
     "output_type": "execute_result"
    }
   ],
   "source": [
    "from sklearn.linear_model import LogisticRegression\n",
    "regressor = LogisticRegression(C=1.0,random_state=2)\n",
    "regressor.fit(X_train,y_train)"
   ]
  },
  {
   "cell_type": "code",
   "execution_count": 31,
   "id": "8039c20f-a53a-4f05-a6ed-1aa3f8bb6646",
   "metadata": {},
   "outputs": [
    {
     "name": "stdout",
     "output_type": "stream",
     "text": [
      "[[ 83   0   0]\n",
      " [  0 166   0]\n",
      " [  0   0 152]]\n"
     ]
    }
   ],
   "source": [
    "from sklearn.metrics import accuracy_score, confusion_matrix\n",
    "prediction = regressor.predict(X_test)\n",
    "confusionmatrix = confusion_matrix(y_test,prediction)\n",
    "print(confusionmatrix)"
   ]
  },
  {
   "cell_type": "code",
   "execution_count": 32,
   "id": "bf2285b7-6c3b-40c9-a717-26c369239f5d",
   "metadata": {},
   "outputs": [
    {
     "name": "stdout",
     "output_type": "stream",
     "text": [
      "1.0\n"
     ]
    }
   ],
   "source": [
    "print(accuracy_score(y_test,prediction))"
   ]
  },
  {
   "cell_type": "code",
   "execution_count": 33,
   "id": "7aec0517-c905-4f8e-ab4b-ed11fbc61877",
   "metadata": {},
   "outputs": [
    {
     "name": "stdout",
     "output_type": "stream",
     "text": [
      "[[ 83   0   0]\n",
      " [  0 166   0]\n",
      " [  0   0 152]]\n"
     ]
    }
   ],
   "source": [
    "from sklearn.ensemble import RandomForestClassifier\n",
    "model=RandomForestClassifier(n_estimators=100,max_depth=3,random_state=0)\n",
    "model.fit(X,y)\n",
    "prediction = model.predict(X_test)\n",
    "confusionmatrix = confusion_matrix(y_test,prediction)\n",
    "print(confusionmatrix)"
   ]
  },
  {
   "cell_type": "code",
   "execution_count": 34,
   "id": "6b77266c-ddcb-4c04-bc10-3707af7a2e3a",
   "metadata": {},
   "outputs": [
    {
     "name": "stdout",
     "output_type": "stream",
     "text": [
      "1.0\n"
     ]
    }
   ],
   "source": [
    "print(accuracy_score(y_test,prediction))"
   ]
  },
  {
   "cell_type": "code",
   "execution_count": 35,
   "id": "68a49b9c-1149-409c-9e87-5a5fc79491e2",
   "metadata": {},
   "outputs": [],
   "source": [
    "from sklearn.preprocessing import StandardScaler\n",
    "\n",
    "# Create a StandardScaler instance\n",
    "standardscaler = StandardScaler()\n",
    "\n",
    "# Transform your data\n",
    "X_train = standardscaler.fit_transform(X_train)\n"
   ]
  },
  {
   "cell_type": "code",
   "execution_count": 36,
   "id": "ec119e62-c273-439e-8b2b-279f5d0e7d69",
   "metadata": {},
   "outputs": [
    {
     "data": {
      "text/html": [
       "<style>#sk-container-id-2 {color: black;background-color: white;}#sk-container-id-2 pre{padding: 0;}#sk-container-id-2 div.sk-toggleable {background-color: white;}#sk-container-id-2 label.sk-toggleable__label {cursor: pointer;display: block;width: 100%;margin-bottom: 0;padding: 0.3em;box-sizing: border-box;text-align: center;}#sk-container-id-2 label.sk-toggleable__label-arrow:before {content: \"▸\";float: left;margin-right: 0.25em;color: #696969;}#sk-container-id-2 label.sk-toggleable__label-arrow:hover:before {color: black;}#sk-container-id-2 div.sk-estimator:hover label.sk-toggleable__label-arrow:before {color: black;}#sk-container-id-2 div.sk-toggleable__content {max-height: 0;max-width: 0;overflow: hidden;text-align: left;background-color: #f0f8ff;}#sk-container-id-2 div.sk-toggleable__content pre {margin: 0.2em;color: black;border-radius: 0.25em;background-color: #f0f8ff;}#sk-container-id-2 input.sk-toggleable__control:checked~div.sk-toggleable__content {max-height: 200px;max-width: 100%;overflow: auto;}#sk-container-id-2 input.sk-toggleable__control:checked~label.sk-toggleable__label-arrow:before {content: \"▾\";}#sk-container-id-2 div.sk-estimator input.sk-toggleable__control:checked~label.sk-toggleable__label {background-color: #d4ebff;}#sk-container-id-2 div.sk-label input.sk-toggleable__control:checked~label.sk-toggleable__label {background-color: #d4ebff;}#sk-container-id-2 input.sk-hidden--visually {border: 0;clip: rect(1px 1px 1px 1px);clip: rect(1px, 1px, 1px, 1px);height: 1px;margin: -1px;overflow: hidden;padding: 0;position: absolute;width: 1px;}#sk-container-id-2 div.sk-estimator {font-family: monospace;background-color: #f0f8ff;border: 1px dotted black;border-radius: 0.25em;box-sizing: border-box;margin-bottom: 0.5em;}#sk-container-id-2 div.sk-estimator:hover {background-color: #d4ebff;}#sk-container-id-2 div.sk-parallel-item::after {content: \"\";width: 100%;border-bottom: 1px solid gray;flex-grow: 1;}#sk-container-id-2 div.sk-label:hover label.sk-toggleable__label {background-color: #d4ebff;}#sk-container-id-2 div.sk-serial::before {content: \"\";position: absolute;border-left: 1px solid gray;box-sizing: border-box;top: 0;bottom: 0;left: 50%;z-index: 0;}#sk-container-id-2 div.sk-serial {display: flex;flex-direction: column;align-items: center;background-color: white;padding-right: 0.2em;padding-left: 0.2em;position: relative;}#sk-container-id-2 div.sk-item {position: relative;z-index: 1;}#sk-container-id-2 div.sk-parallel {display: flex;align-items: stretch;justify-content: center;background-color: white;position: relative;}#sk-container-id-2 div.sk-item::before, #sk-container-id-2 div.sk-parallel-item::before {content: \"\";position: absolute;border-left: 1px solid gray;box-sizing: border-box;top: 0;bottom: 0;left: 50%;z-index: -1;}#sk-container-id-2 div.sk-parallel-item {display: flex;flex-direction: column;z-index: 1;position: relative;background-color: white;}#sk-container-id-2 div.sk-parallel-item:first-child::after {align-self: flex-end;width: 50%;}#sk-container-id-2 div.sk-parallel-item:last-child::after {align-self: flex-start;width: 50%;}#sk-container-id-2 div.sk-parallel-item:only-child::after {width: 0;}#sk-container-id-2 div.sk-dashed-wrapped {border: 1px dashed gray;margin: 0 0.4em 0.5em 0.4em;box-sizing: border-box;padding-bottom: 0.4em;background-color: white;}#sk-container-id-2 div.sk-label label {font-family: monospace;font-weight: bold;display: inline-block;line-height: 1.2em;}#sk-container-id-2 div.sk-label-container {text-align: center;}#sk-container-id-2 div.sk-container {/* jupyter's `normalize.less` sets `[hidden] { display: none; }` but bootstrap.min.css set `[hidden] { display: none !important; }` so we also need the `!important` here to be able to override the default hidden behavior on the sphinx rendered scikit-learn.org. See: https://github.com/scikit-learn/scikit-learn/issues/21755 */display: inline-block !important;position: relative;}#sk-container-id-2 div.sk-text-repr-fallback {display: none;}</style><div id=\"sk-container-id-2\" class=\"sk-top-container\"><div class=\"sk-text-repr-fallback\"><pre>SVC(kernel=&#x27;linear&#x27;, random_state=0)</pre><b>In a Jupyter environment, please rerun this cell to show the HTML representation or trust the notebook. <br />On GitHub, the HTML representation is unable to render, please try loading this page with nbviewer.org.</b></div><div class=\"sk-container\" hidden><div class=\"sk-item\"><div class=\"sk-estimator sk-toggleable\"><input class=\"sk-toggleable__control sk-hidden--visually\" id=\"sk-estimator-id-2\" type=\"checkbox\" checked><label for=\"sk-estimator-id-2\" class=\"sk-toggleable__label sk-toggleable__label-arrow\">SVC</label><div class=\"sk-toggleable__content\"><pre>SVC(kernel=&#x27;linear&#x27;, random_state=0)</pre></div></div></div></div></div>"
      ],
      "text/plain": [
       "SVC(kernel='linear', random_state=0)"
      ]
     },
     "execution_count": 36,
     "metadata": {},
     "output_type": "execute_result"
    }
   ],
   "source": [
    "from sklearn.svm import SVC\n",
    "classifier = SVC(kernel='linear', random_state=0)  \n",
    "classifier.fit(X_train, y_train)  "
   ]
  },
  {
   "cell_type": "code",
   "execution_count": 37,
   "id": "3ede657c-1dc6-4c8a-845a-1f9553a9c7bc",
   "metadata": {},
   "outputs": [
    {
     "name": "stdout",
     "output_type": "stream",
     "text": [
      "0.3790523690773067\n"
     ]
    },
    {
     "name": "stderr",
     "output_type": "stream",
     "text": [
      "/opt/intel/inteloneapi/tensorflow/latest/lib/python3.9/site-packages/sklearn/base.py:432: UserWarning: X has feature names, but SVC was fitted without feature names\n",
      "  warnings.warn(\n"
     ]
    }
   ],
   "source": [
    "y_predict= classifier.predict(X_test)\n",
    "score=accuracy_score(y_test,y_predict)\n",
    "print(score)"
   ]
  },
  {
   "cell_type": "code",
   "execution_count": 38,
   "id": "c8d78300-1b21-4369-83be-e0e5323e41e8",
   "metadata": {},
   "outputs": [],
   "source": [
    "import pickle"
   ]
  },
  {
   "cell_type": "code",
   "execution_count": 39,
   "id": "e009c227-da4d-4f6a-b819-779a50db00a9",
   "metadata": {},
   "outputs": [],
   "source": [
    "filename = 'stress_trained.sav'\n",
    "pickle.dump(classifier,open(filename,'wb'))"
   ]
  },
  {
   "cell_type": "code",
   "execution_count": 40,
   "id": "2ae3472a-c8c0-4741-b0d1-e9460faa353c",
   "metadata": {},
   "outputs": [],
   "source": [
    "loaded_model = pickle.load(open('stress_trained.sav','rb'))\n",
    "# Download the stress_trained.sav model "
   ]
  },
  {
   "cell_type": "code",
   "execution_count": 41,
   "id": "cb65bbf1-c7e8-4aae-891c-a4c2c9c1d0a9",
   "metadata": {},
   "outputs": [
    {
     "name": "stdout",
     "output_type": "stream",
     "text": [
      "[2]\n",
      "Stress Level: HIGH\n",
      "[2]\n",
      "Stress Level: HIGH\n",
      "[2]\n",
      "Stress Level: HIGH\n"
     ]
    }
   ],
   "source": [
    "# Evaluating\n",
    "\n",
    "input_data = (11.05,80.05,14) #300\n",
    "#changing the input data into numpy array\n",
    "id_np_array = np.asarray(input_data)\n",
    "id_reshaped = id_np_array.reshape(1,-1)\n",
    "\n",
    "prediction = classifier.predict(id_reshaped)\n",
    "print(prediction)\n",
    "\n",
    "if(prediction[0]==0):\n",
    "    print(\"Stress Level: LOW\")\n",
    "elif(prediction[0]==1):\n",
    "    print(\"Stress Level: MEDIUM\")\n",
    "else:\n",
    "    print(\"Stress Level: HIGH\")\n",
    "    \n",
    "input_data = (21.38,90.38,128) #100\n",
    "#changing the input data into numpy array\n",
    "id_np_array = np.asarray(input_data)\n",
    "id_reshaped = id_np_array.reshape(1,-1)\n",
    "\n",
    "prediction = classifier.predict(id_reshaped)\n",
    "print(prediction)\n",
    "\n",
    "if(prediction[0]==0):\n",
    "    print(\"Stress Level: LOW\")\n",
    "elif(prediction[0]==1):\n",
    "    print(\"Stress Level: MEDIUM\")\n",
    "else:\n",
    "    print(\"Stress Level: HIGH\")\n",
    "    \n",
    "input_data = (25.41,94.41,167) #200\n",
    "#changing the input data into numpy array\n",
    "id_np_array = np.asarray(input_data)\n",
    "id_reshaped = id_np_array.reshape(1,-1)\n",
    "\n",
    "prediction = classifier.predict(id_reshaped)\n",
    "print(prediction)\n",
    "\n",
    "if(prediction[0]==0):\n",
    "    print(\"Stress Level: LOW\")\n",
    "elif(prediction[0]==1):\n",
    "    print(\"Stress Level: MEDIUM\")\n",
    "else:\n",
    "    print(\"Stress Level: HIGH\")"
   ]
  },
  {
   "cell_type": "code",
   "execution_count": 42,
   "id": "a26e5dc6-855c-44f6-a21a-b5eb0be46626",
   "metadata": {},
   "outputs": [
    {
     "name": "stdout",
     "output_type": "stream",
     "text": [
      "[2]\n",
      "Stress Level: HIGH\n"
     ]
    }
   ],
   "source": [
    "# File - Predictive System.py\n",
    "\n",
    "# Imports\n",
    "import numpy as np\n",
    "import pickle\n",
    "\n",
    "# Loading the trained model\n",
    "loaded_model = pickle.load(open('stress_trained.sav','rb'))\n",
    "# stress_trained.sav - replace the path of the file along with the file name\n",
    "# Example: loaded_model = pickle.load(open('C:/Users/jeyasri/Downloads/PROJECT/stress_trained.sav','rb'))\n",
    "\n",
    "\n",
    "\n",
    "input_data = (25.41,94.41,167) #200\n",
    "#changing the input data into numpy array\n",
    "id_np_array = np.asarray(input_data)\n",
    "id_reshaped = id_np_array.reshape(1,-1)\n",
    "\n",
    "prediction = loaded_model.predict(id_reshaped)\n",
    "print(prediction)\n",
    "\n",
    "if(prediction[0]==0):\n",
    "    print(\"Stress Level: LOW\")\n",
    "elif(prediction[0]==1):\n",
    "    print(\"Stress Level: MEDIUM\")\n",
    "else:\n",
    "    print(\"Stress Level: HIGH\")"
   ]
  },
  {
   "cell_type": "code",
   "execution_count": 43,
   "id": "1099a5ca-d791-4b27-bd00-e332fc846e64",
   "metadata": {},
   "outputs": [],
   "source": [
    "!pip install -q streamlit"
   ]
  },
  {
   "cell_type": "code",
   "execution_count": 44,
   "id": "296f5b0a-8746-4d28-8804-d2aef1b05c13",
   "metadata": {},
   "outputs": [
    {
     "name": "stdout",
     "output_type": "stream",
     "text": [
      "Defaulting to user installation because normal site-packages is not writeable\n",
      "Requirement already satisfied: streamlit in /home/u194229/.local/lib/python3.9/site-packages (1.26.0)\n",
      "Requirement already satisfied: altair<6,>=4.0 in /home/u194229/.local/lib/python3.9/site-packages (from streamlit) (5.1.1)\n",
      "Requirement already satisfied: blinker<2,>=1.0.0 in /home/u194229/.local/lib/python3.9/site-packages (from streamlit) (1.6.2)\n",
      "Requirement already satisfied: cachetools<6,>=4.0 in /home/u194229/.local/lib/python3.9/site-packages (from streamlit) (5.3.1)\n",
      "Requirement already satisfied: click<9,>=7.0 in /home/u194229/.local/lib/python3.9/site-packages (from streamlit) (8.1.7)\n",
      "Requirement already satisfied: importlib-metadata<7,>=1.4 in /glob/development-tools/versions/oneapi/2023.2.0.1/oneapi/intelpython/python3.9/lib/python3.9/site-packages (from streamlit) (6.8.0)\n",
      "Requirement already satisfied: numpy<2,>=1.19.3 in /home/u194229/.local/lib/python3.9/site-packages (from streamlit) (1.22.4)\n",
      "Requirement already satisfied: packaging<24,>=16.8 in /glob/development-tools/versions/oneapi/2023.2.0.1/oneapi/intelpython/python3.9/lib/python3.9/site-packages (from streamlit) (23.1)\n",
      "Requirement already satisfied: pandas<3,>=1.3.0 in /home/u194229/.local/lib/python3.9/site-packages (from streamlit) (2.0.3)\n",
      "Requirement already satisfied: pillow<10,>=7.1.0 in /home/u194229/.local/lib/python3.9/site-packages (from streamlit) (9.5.0)\n",
      "Requirement already satisfied: protobuf<5,>=3.20 in /home/u194229/.local/lib/python3.9/site-packages (from streamlit) (4.24.2)\n",
      "Requirement already satisfied: pyarrow>=6.0 in /home/u194229/.local/lib/python3.9/site-packages (from streamlit) (13.0.0)\n",
      "Requirement already satisfied: pympler<2,>=0.9 in /home/u194229/.local/lib/python3.9/site-packages (from streamlit) (1.0.1)\n",
      "Requirement already satisfied: python-dateutil<3,>=2.7.3 in /glob/development-tools/versions/oneapi/2023.2.0.1/oneapi/intelpython/python3.9/lib/python3.9/site-packages (from streamlit) (2.8.2)\n",
      "Requirement already satisfied: requests<3,>=2.18 in /glob/development-tools/versions/oneapi/2023.2.0.1/oneapi/intelpython/python3.9/lib/python3.9/site-packages (from streamlit) (2.31.0)\n",
      "Requirement already satisfied: rich<14,>=10.14.0 in /home/u194229/.local/lib/python3.9/site-packages (from streamlit) (13.5.2)\n",
      "Requirement already satisfied: tenacity<9,>=8.1.0 in /home/u194229/.local/lib/python3.9/site-packages (from streamlit) (8.2.2)\n",
      "Requirement already satisfied: toml<2,>=0.10.1 in /home/u194229/.local/lib/python3.9/site-packages (from streamlit) (0.10.2)\n",
      "Requirement already satisfied: typing-extensions<5,>=4.1.0 in /glob/development-tools/versions/oneapi/2023.2.0.1/oneapi/intelpython/python3.9/lib/python3.9/site-packages (from streamlit) (4.6.3)\n",
      "Requirement already satisfied: tzlocal<5,>=1.1 in /home/u194229/.local/lib/python3.9/site-packages (from streamlit) (4.3.1)\n",
      "Requirement already satisfied: validators<1,>=0.2 in /home/u194229/.local/lib/python3.9/site-packages (from streamlit) (0.22.0)\n",
      "Requirement already satisfied: gitpython!=3.1.19,<4,>=3.0.7 in /home/u194229/.local/lib/python3.9/site-packages (from streamlit) (3.1.34)\n",
      "Requirement already satisfied: pydeck<1,>=0.8 in /home/u194229/.local/lib/python3.9/site-packages (from streamlit) (0.8.0)\n",
      "Requirement already satisfied: tornado<7,>=6.0.3 in /glob/development-tools/versions/oneapi/2023.2.0.1/oneapi/intelpython/python3.9/lib/python3.9/site-packages (from streamlit) (6.3.2)\n",
      "Requirement already satisfied: watchdog>=2.1.5 in /home/u194229/.local/lib/python3.9/site-packages (from streamlit) (3.0.0)\n",
      "Requirement already satisfied: jinja2 in /home/u194229/.local/lib/python3.9/site-packages (from altair<6,>=4.0->streamlit) (3.1.2)\n",
      "Requirement already satisfied: jsonschema>=3.0 in /home/u194229/.local/lib/python3.9/site-packages (from altair<6,>=4.0->streamlit) (4.19.0)\n",
      "Requirement already satisfied: toolz in /glob/development-tools/versions/oneapi/2023.2.0.1/oneapi/intelpython/python3.9/lib/python3.9/site-packages (from altair<6,>=4.0->streamlit) (0.12.0)\n",
      "Requirement already satisfied: gitdb<5,>=4.0.1 in /home/u194229/.local/lib/python3.9/site-packages (from gitpython!=3.1.19,<4,>=3.0.7->streamlit) (4.0.10)\n",
      "Requirement already satisfied: zipp>=0.5 in /glob/development-tools/versions/oneapi/2023.2.0.1/oneapi/intelpython/python3.9/lib/python3.9/site-packages (from importlib-metadata<7,>=1.4->streamlit) (3.16.2)\n",
      "Requirement already satisfied: pytz>=2020.1 in /glob/development-tools/versions/oneapi/2023.2.0.1/oneapi/intelpython/python3.9/lib/python3.9/site-packages (from pandas<3,>=1.3.0->streamlit) (2023.3)\n",
      "Requirement already satisfied: tzdata>=2022.1 in /home/u194229/.local/lib/python3.9/site-packages (from pandas<3,>=1.3.0->streamlit) (2023.3)\n",
      "Requirement already satisfied: six>=1.5 in /glob/development-tools/versions/oneapi/2023.2.0.1/oneapi/intelpython/python3.9/lib/python3.9/site-packages (from python-dateutil<3,>=2.7.3->streamlit) (1.16.0)\n",
      "Requirement already satisfied: charset-normalizer<4,>=2 in /glob/development-tools/versions/oneapi/2023.2.0.1/oneapi/intelpython/python3.9/lib/python3.9/site-packages (from requests<3,>=2.18->streamlit) (3.1.0)\n",
      "Requirement already satisfied: idna<4,>=2.5 in /glob/development-tools/versions/oneapi/2023.2.0.1/oneapi/intelpython/python3.9/lib/python3.9/site-packages (from requests<3,>=2.18->streamlit) (3.4)\n",
      "Requirement already satisfied: urllib3<3,>=1.21.1 in /home/u194229/.local/lib/python3.9/site-packages (from requests<3,>=2.18->streamlit) (1.26.16)\n",
      "Requirement already satisfied: certifi>=2017.4.17 in /glob/development-tools/versions/oneapi/2023.2.0.1/oneapi/intelpython/python3.9/lib/python3.9/site-packages (from requests<3,>=2.18->streamlit) (2023.5.7)\n",
      "Requirement already satisfied: markdown-it-py>=2.2.0 in /home/u194229/.local/lib/python3.9/site-packages (from rich<14,>=10.14.0->streamlit) (3.0.0)\n",
      "Requirement already satisfied: pygments<3.0.0,>=2.13.0 in /glob/development-tools/versions/oneapi/2023.2.0.1/oneapi/intelpython/python3.9/lib/python3.9/site-packages (from rich<14,>=10.14.0->streamlit) (2.16.1)\n",
      "Requirement already satisfied: pytz-deprecation-shim in /home/u194229/.local/lib/python3.9/site-packages (from tzlocal<5,>=1.1->streamlit) (0.1.0.post0)\n",
      "Requirement already satisfied: smmap<6,>=3.0.1 in /home/u194229/.local/lib/python3.9/site-packages (from gitdb<5,>=4.0.1->gitpython!=3.1.19,<4,>=3.0.7->streamlit) (5.0.0)\n",
      "Requirement already satisfied: MarkupSafe>=2.0 in /home/u194229/.local/lib/python3.9/site-packages (from jinja2->altair<6,>=4.0->streamlit) (2.1.3)\n",
      "Requirement already satisfied: attrs>=22.2.0 in /home/u194229/.local/lib/python3.9/site-packages (from jsonschema>=3.0->altair<6,>=4.0->streamlit) (23.1.0)\n",
      "Requirement already satisfied: jsonschema-specifications>=2023.03.6 in /home/u194229/.local/lib/python3.9/site-packages (from jsonschema>=3.0->altair<6,>=4.0->streamlit) (2023.7.1)\n",
      "Requirement already satisfied: referencing>=0.28.4 in /home/u194229/.local/lib/python3.9/site-packages (from jsonschema>=3.0->altair<6,>=4.0->streamlit) (0.30.2)\n",
      "Requirement already satisfied: rpds-py>=0.7.1 in /home/u194229/.local/lib/python3.9/site-packages (from jsonschema>=3.0->altair<6,>=4.0->streamlit) (0.10.2)\n",
      "Requirement already satisfied: mdurl~=0.1 in /home/u194229/.local/lib/python3.9/site-packages (from markdown-it-py>=2.2.0->rich<14,>=10.14.0->streamlit) (0.1.2)\n"
     ]
    }
   ],
   "source": [
    "!pip install streamlit"
   ]
  },
  {
   "cell_type": "code",
   "execution_count": 45,
   "id": "fe0ec455-c2ba-42fd-9818-37c42a81132a",
   "metadata": {},
   "outputs": [
    {
     "name": "stderr",
     "output_type": "stream",
     "text": [
      "2023-09-21 01:03:51.895 \n",
      "  \u001b[33m\u001b[1mWarning:\u001b[0m to view this Streamlit app on a browser, run it with the following\n",
      "  command:\n",
      "\n",
      "    streamlit run /opt/intel/inteloneapi/tensorflow/latest/lib/python3.9/site-packages/ipykernel_launcher.py [ARGUMENTS]\n"
     ]
    }
   ],
   "source": [
    "import numpy as np\n",
    "import pickle\n",
    "import streamlit as st  \n",
    "\n",
    "# Loading the trained model\n",
    "loaded_model = pickle.load(open('stress_trained.sav','rb'))\n",
    "# Replace path over stress_trained.sav\n",
    "\n",
    "def stresslevel_prediction(input_data):\n",
    "    \n",
    "    #changing the input data into numpy array\n",
    "    id_np_array = np.asarray(input_data)\n",
    "    id_reshaped = id_np_array.reshape(1,-1)\n",
    "\n",
    "    prediction = loaded_model.predict(id_reshaped)\n",
    "    print(prediction)\n",
    "\n",
    "    if(prediction[0]==0):\n",
    "        return \"Stress Level: LOW\"\n",
    "    elif(prediction[0]==1):\n",
    "        return \"Stress Level: MEDIUM\"\n",
    "    else:\n",
    "        return \"Stress Level: HIGH\"\n",
    "    \n",
    "def main():\n",
    "    \n",
    "    st.title('STRESS LEVEL PREDICTION WEB APP')\n",
    "    \n",
    "    Humidity = st.text_input('Humidity Value')\n",
    "    Temperature = st.text_input('Body Temperature')\n",
    "    Step_count = st.text_input('Number of Steps')\n",
    "    \n",
    "    # Prediction code\n",
    "    diagnosis = ''\n",
    "    \n",
    "    if st.button('PREDICT'):\n",
    "        diagnosis = stresslevel_prediction([Humidity, Temperature, Step_count])\n",
    "        \n",
    "    st.success(diagnosis)\n",
    "    \n",
    "if __name__=='__main__':\n",
    "    main()"
   ]
  },
  {
   "cell_type": "code",
   "execution_count": null,
   "id": "c543508e-903c-4381-92e2-242e76588597",
   "metadata": {},
   "outputs": [],
   "source": []
  }
 ],
 "metadata": {
  "kernelspec": {
   "display_name": "Tensorflow (AI kit)",
   "language": "python",
   "name": "c009-intel_distribution_of_python_3_oneapi-beta05-tf"
  },
  "language_info": {
   "codemirror_mode": {
    "name": "ipython",
    "version": 3
   },
   "file_extension": ".py",
   "mimetype": "text/x-python",
   "name": "python",
   "nbconvert_exporter": "python",
   "pygments_lexer": "ipython3",
   "version": "3.9.16"
  }
 },
 "nbformat": 4,
 "nbformat_minor": 5
}
